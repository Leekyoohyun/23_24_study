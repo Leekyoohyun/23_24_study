{
  "nbformat": 4,
  "nbformat_minor": 0,
  "metadata": {
    "colab": {
      "provenance": [],
      "authorship_tag": "ABX9TyNHH9BK7iidBRV5HOXFQKaf",
      "include_colab_link": true
    },
    "kernelspec": {
      "name": "python3",
      "display_name": "Python 3"
    },
    "language_info": {
      "name": "python"
    }
  },
  "cells": [
    {
      "cell_type": "markdown",
      "metadata": {
        "id": "view-in-github",
        "colab_type": "text"
      },
      "source": [
        "<a href=\"https://colab.research.google.com/github/Leekyoohyun/world-of-modern-science-/blob/main/%EC%86%90%EA%B8%80%EC%94%A8%EB%A7%9E%EC%B6%94%EA%B8%B0AI.ipynb\" target=\"_parent\"><img src=\"https://colab.research.google.com/assets/colab-badge.svg\" alt=\"Open In Colab\"/></a>"
      ]
    },
    {
      "cell_type": "code",
      "source": [],
      "metadata": {
        "id": "u-1vgrqNOF0V"
      },
      "execution_count": null,
      "outputs": []
    },
    {
      "cell_type": "code",
      "execution_count": 8,
      "metadata": {
        "colab": {
          "base_uri": "https://localhost:8080/"
        },
        "id": "8nm64xqgLIVT",
        "outputId": "57aa84fd-de94-4ead-ee51-ca48c7e47d3c"
      },
      "outputs": [
        {
          "output_type": "stream",
          "name": "stdout",
          "text": [
            "Epoch 1/5\n",
            "1875/1875 [==============================] - 7s 4ms/step - loss: 0.2563 - accuracy: 0.9269\n",
            "Epoch 2/5\n",
            "1875/1875 [==============================] - 10s 5ms/step - loss: 0.1135 - accuracy: 0.9661\n",
            "Epoch 3/5\n",
            "1875/1875 [==============================] - 10s 5ms/step - loss: 0.0784 - accuracy: 0.9761\n",
            "Epoch 4/5\n",
            "1875/1875 [==============================] - 7s 4ms/step - loss: 0.0586 - accuracy: 0.9821\n",
            "Epoch 5/5\n",
            "1875/1875 [==============================] - 9s 5ms/step - loss: 0.0460 - accuracy: 0.9858\n",
            "313/313 - 1s - loss: 0.0791 - accuracy: 0.9746 - 612ms/epoch - 2ms/step\n"
          ]
        },
        {
          "output_type": "execute_result",
          "data": {
            "text/plain": [
              "[0.07908348739147186, 0.9746000170707703]"
            ]
          },
          "metadata": {},
          "execution_count": 8
        }
      ],
      "source": [
        "import tensorflow as tf\n",
        "import numpy as np\n",
        "#download MNIST dataset\n",
        "mnist=tf.keras.datasets.mnist\n",
        "#load MNIST dataset and split to trainset and testset\n",
        "(x_train,y_train),(x_test,y_test)=mnist.load_data()   #훈련코드는 1875개인데, 테스트도있다. 그니까 이게 데이터를 인공지능에서 쓸 수 있도록 load라하는 코드?\n",
        "#normalize the image (0~255 => 0~1) 한 픽셀이 0~255범위\n",
        "x_train,x_test=x_train / 255.0 ,x_test/255.0    # 255로 나눠서 계산을 편하게 해준다.\n",
        "\n",
        "#make neural network model\n",
        "model=tf.keras.models.Sequential([\n",
        "    tf.keras.layers.Flatten(input_shape=(28,28)), #Flatten이 행렬이던 input을 일자로 바꿔준다.\n",
        "    tf.keras.layers.Dense(128,activation='relu'), #hidden 갯수 128개 #relu: 정류선형유닛에 대한 함수. 입력값이 0보다 작으면 0으로 출력, 0보다 크면  입력값그대로 출력\n",
        "    tf.keras.layers.Dense(10,activation='softmax') #output개수 10개  #softmax:입력받은 값을 출력으로 0~1사이의 값으로 모두 정규화하며 출력 값들의 총합은 항상 1이 되는 특성을 가진 함수\n",
        "    ])\n",
        "\n",
        "#add training setting\n",
        "model.compile(optimizer='adam',   #최적화 함수의 훈련 옵션(학습률정보or 정규화 인자 정보)\n",
        "    loss='sparse_categorical_crossentropy', # 다중분류 손실함수로 훈련데이터 label(y/target)값이 정수(int) 형태인 경우\n",
        "    metrics=['accuracy']) #정확도\n",
        "\n",
        "model.fit(x_train,y_train,epochs=5)\n",
        "model.evaluate(x_test,y_test,verbose=2)\n"
      ]
    },
    {
      "cell_type": "code",
      "source": [],
      "metadata": {
        "id": "3Nz9Xz1XVHQi"
      },
      "execution_count": null,
      "outputs": []
    }
  ]
}